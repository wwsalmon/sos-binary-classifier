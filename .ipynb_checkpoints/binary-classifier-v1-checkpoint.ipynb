{
 "cells": [
  {
   "cell_type": "markdown",
   "metadata": {},
   "source": [
    "Imports"
   ]
  },
  {
   "cell_type": "code",
   "execution_count": 1,
   "metadata": {},
   "outputs": [],
   "source": [
    "import tensorflow as tf\n",
    "from PIL import ImageFile\n",
    "import numpy as np\n",
    "import os\n",
    "\n",
    "ImageFile.LOAD_TRUNCATED_IMAGES = True"
   ]
  },
  {
   "cell_type": "markdown",
   "metadata": {},
   "source": [
    "Process images -- code from https://www.tensorflow.org/tutorials/load_data/images"
   ]
  },
  {
   "cell_type": "code",
   "execution_count": 2,
   "metadata": {},
   "outputs": [
    {
     "name": "stdout",
     "output_type": "stream",
     "text": [
      "Found 1047 images belonging to 2 classes.\n",
      "Found 261 images belonging to 2 classes.\n"
     ]
    }
   ],
   "source": [
    "num_images = len(os.listdir(\"./images/violent\")) + len(os.listdir(\"./images/peaceful\"))\n",
    "dir_images = \"./images\"\n",
    "class_images = np.array([item for item in os.listdir(dir_images)])\n",
    "\n",
    "image_generator = tf.keras.preprocessing.image.ImageDataGenerator(\n",
    "    rescale=1./255,\n",
    "    validation_split = 0.2,\n",
    "    shear_range = 0.2,\n",
    "    zoom_range = 0.2,\n",
    "    horizontal_flip = True)\n",
    "\n",
    "BATCH_SIZE = 128\n",
    "IMG_HEIGHT = 224\n",
    "IMG_WIDTH = 224\n",
    "STEPS_PER_EPOCH = np.ceil(num_images/BATCH_SIZE)\n",
    "\n",
    "train_data_gen = image_generator.flow_from_directory(directory=str(dir_images),\n",
    "                                                     subset=\"training\",\n",
    "                                                     batch_size=BATCH_SIZE,\n",
    "                                                     shuffle=True,\n",
    "                                                     target_size=(IMG_HEIGHT, IMG_WIDTH),\n",
    "                                                     class_mode=\"binary\")\n",
    "\n",
    "validation_data_gen = image_generator.flow_from_directory(directory=str(dir_images),\n",
    "                                                     subset=\"validation\",\n",
    "                                                     batch_size=BATCH_SIZE,\n",
    "                                                     shuffle=True,\n",
    "                                                     target_size=(IMG_HEIGHT, IMG_WIDTH),\n",
    "                                                     class_mode=\"binary\")"
   ]
  },
  {
   "cell_type": "markdown",
   "metadata": {},
   "source": [
    "Define and train TensorFlow model"
   ]
  },
  {
   "cell_type": "code",
   "execution_count": 3,
   "metadata": {},
   "outputs": [
    {
     "name": "stderr",
     "output_type": "stream",
     "text": [
      "Using TensorFlow backend.\n"
     ]
    },
    {
     "name": "stdout",
     "output_type": "stream",
     "text": [
      "Epoch 1/3\n",
      "15/15 [==============================] - 109s 7s/step - loss: 19.7639 - accuracy: 0.5070 - val_loss: 0.6899 - val_accuracy: 0.4464\n",
      "Epoch 2/3\n",
      "15/15 [==============================] - 103s 7s/step - loss: 0.6965 - accuracy: 0.5076 - val_loss: 0.6873 - val_accuracy: 0.5536\n",
      "Epoch 3/3\n",
      "15/15 [==============================] - 105s 7s/step - loss: 0.6906 - accuracy: 0.5355 - val_loss: 0.6804 - val_accuracy: 0.5441\n"
     ]
    },
    {
     "data": {
      "text/plain": [
       "<keras.callbacks.callbacks.History at 0x20a74c79c18>"
      ]
     },
     "execution_count": 3,
     "metadata": {},
     "output_type": "execute_result"
    }
   ],
   "source": [
    "from keras.models import Sequential\n",
    "from keras.layers import Dense, Flatten, Conv2D, Dropout\n",
    "\n",
    "model = Sequential()\n",
    "model.add(Conv2D(32, kernel_size=(3,3), activation=\"relu\",\n",
    "                 input_shape=(IMG_HEIGHT, IMG_WIDTH, 3)))\n",
    "model.add(Conv2D(32, kernel_size=(3,3), activation=\"relu\"))\n",
    "model.add(Flatten())\n",
    "model.add(Dense(128, activation=\"relu\"))\n",
    "model.add(Dense(1, activation=\"sigmoid\"))\n",
    "model.compile(loss=\"binary_crossentropy\", optimizer=\"adam\", metrics=[\"accuracy\"])\n",
    "model.fit(train_data_gen,\n",
    "        steps_per_epoch = 2000 // BATCH_SIZE,\n",
    "        epochs = 3,\n",
    "        validation_data = validation_data_gen,\n",
    "        validation_steps = 800 // BATCH_SIZE)"
   ]
  }
 ],
 "metadata": {
  "kernelspec": {
   "display_name": "tensorflow_env",
   "language": "python",
   "name": "tensorflow_env"
  },
  "language_info": {
   "codemirror_mode": {
    "name": "ipython",
    "version": 3
   },
   "file_extension": ".py",
   "mimetype": "text/x-python",
   "name": "python",
   "nbconvert_exporter": "python",
   "pygments_lexer": "ipython3",
   "version": "3.6.10"
  }
 },
 "nbformat": 4,
 "nbformat_minor": 4
}
